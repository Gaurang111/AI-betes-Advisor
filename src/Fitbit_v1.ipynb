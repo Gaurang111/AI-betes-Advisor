{
 "cells": [
  {
   "cell_type": "code",
   "execution_count": 6,
   "id": "385a952a",
   "metadata": {},
   "outputs": [
    {
     "name": "stdout",
     "output_type": "stream",
     "text": [
      "23R9Z5\n",
      "99968dd9424a56fdb435e1a72176fe1a\n"
     ]
    }
   ],
   "source": [
    "%matplotlib inline\n",
    "import matplotlib.pyplot as plt\n",
    "import fitbit\n",
    "import arrow\n",
    "\n",
    "# gather_keys_oauth2.py file needs to be in the same directory. \n",
    "import gather_keys_oauth2 as Oauth2\n",
    "import pandas as pd \n",
    "import datetime\n",
    "\n",
    "\n",
    "# YOU NEED TO PUT IN YOUR OWN CLIENT_ID AND CLIENT_SECRET\n",
    "CLIENT_ID=input()                            #'23R9Z5'\n",
    "CLIENT_SECRET=input()                        #'99968dd9424a56fdb435e1a72176fe1a'"
   ]
  },
  {
   "cell_type": "code",
   "execution_count": 2,
   "id": "47386197",
   "metadata": {},
   "outputs": [
    {
     "name": "stderr",
     "output_type": "stream",
     "text": [
      "[09/Oct/2023:23:10:53] ENGINE Listening for SIGTERM.\n",
      "[09/Oct/2023:23:10:53] ENGINE Bus STARTING\n",
      "[09/Oct/2023:23:10:53] ENGINE Set handler for console events.\n",
      "CherryPy Checker:\n",
      "The Application mounted at '' has an empty config.\n",
      "\n",
      "[09/Oct/2023:23:10:53] ENGINE Started monitor thread 'Autoreloader'.\n",
      "[09/Oct/2023:23:10:53] ENGINE Serving on http://127.0.0.1:8080\n",
      "[09/Oct/2023:23:10:53] ENGINE Bus STARTED\n"
     ]
    },
    {
     "name": "stdout",
     "output_type": "stream",
     "text": [
      "127.0.0.1 - - [09/Oct/2023:23:10:56] \"GET /?code=d750b544e929296d9302ab4d6aa6450d6ca4da19&state=oqqDi4yt1AGq8diDcp6WrSuUWranbg HTTP/1.1\" 200 122 \"\" \"Mozilla/5.0 (Windows NT 10.0; Win64; x64) AppleWebKit/537.36 (KHTML, like Gecko) Chrome/117.0.0.0 Safari/537.36 Edg/117.0.2045.60\"\n"
     ]
    },
    {
     "name": "stderr",
     "output_type": "stream",
     "text": [
      "[09/Oct/2023:23:10:57] ENGINE Bus STOPPING\n",
      "[09/Oct/2023:23:10:57] ENGINE HTTP Server cherrypy._cpwsgi_server.CPWSGIServer(('127.0.0.1', 8080)) shut down\n",
      "[09/Oct/2023:23:10:57] ENGINE Removed handler for console events.\n",
      "[09/Oct/2023:23:10:57] ENGINE Stopped thread 'Autoreloader'.\n",
      "[09/Oct/2023:23:10:57] ENGINE Bus STOPPED\n",
      "[09/Oct/2023:23:10:57] ENGINE Bus EXITING\n",
      "[09/Oct/2023:23:10:57] ENGINE Waiting for child threads to terminate...\n",
      "[09/Oct/2023:23:10:57] ENGINE Bus EXITED\n",
      "[09/Oct/2023:23:10:57] ENGINE Waiting for thread Thread-18.\n"
     ]
    }
   ],
   "source": [
    "server=Oauth2.OAuth2Server(CLIENT_ID, CLIENT_SECRET)\n",
    "server.browser_authorize()\n",
    "ACCESS_TOKEN=str(server.fitbit.client.session.token['access_token'])\n",
    "REFRESH_TOKEN=str(server.fitbit.client.session.token['refresh_token'])\n",
    "auth2_client=fitbit.Fitbit(CLIENT_ID,CLIENT_SECRET,oauth2=True,access_token=ACCESS_TOKEN,refresh_token=REFRESH_TOKEN)\n"
   ]
  },
  {
   "cell_type": "code",
   "execution_count": 3,
   "id": "a695241d",
   "metadata": {},
   "outputs": [
    {
     "data": {
      "text/plain": [
       "[(<Arrow [2021-09-01T00:00:00+00:00]>, <Arrow [2021-12-10T00:00:00+00:00]>),\n",
       " (<Arrow [2021-12-11T00:00:00+00:00]>, <Arrow [2022-03-21T00:00:00+00:00]>),\n",
       " (<Arrow [2022-03-22T00:00:00+00:00]>, <Arrow [2022-06-30T00:00:00+00:00]>),\n",
       " (<Arrow [2022-07-01T00:00:00+00:00]>, <Arrow [2022-10-09T00:00:00+00:00]>),\n",
       " (<Arrow [2022-10-10T00:00:00+00:00]>, <Arrow [2023-01-18T00:00:00+00:00]>),\n",
       " (<Arrow [2023-01-19T00:00:00+00:00]>, <Arrow [2023-04-29T00:00:00+00:00]>),\n",
       " (<Arrow [2023-04-30T00:00:00+00:00]>, <Arrow [2023-08-08T00:00:00+00:00]>),\n",
       " (<Arrow [2023-08-09T00:00:00+00:00]>, <Arrow [2023-11-01T00:00:00+00:00]>)]"
      ]
     },
     "execution_count": 3,
     "metadata": {},
     "output_type": "execute_result"
    }
   ],
   "source": [
    "start_date = arrow.get(\"2021-09-01\")\n",
    "end_date = arrow.get(\"2023-11-01\")\n",
    "\n",
    "# Create a series of 100-day date-range tuples between start_date and end_date\n",
    "date_ranges = []\n",
    "start_range = start_date\n",
    "while start_range < end_date:\n",
    "  if start_range.shift(days=100) < end_date:\n",
    "    date_ranges.append((start_range, start_range.shift(days=100)))\n",
    "    start_range = start_range.shift(days=101)\n",
    "  else:\n",
    "    date_ranges.append((start_range, end_date))\n",
    "    start_range = end_date\n",
    "\n",
    "# Print the result to the console\n",
    "date_ranges"
   ]
  },
  {
   "cell_type": "code",
   "execution_count": 4,
   "id": "e74033e9",
   "metadata": {},
   "outputs": [
    {
     "name": "stdout",
     "output_type": "stream",
     "text": [
      "Requesting data for 2021-09-01T00:00:00+00:00 to 2021-12-10T00:00:00+00:00.\n",
      "Success!\n",
      "https://api.fitbit.com/1.2/user/-/sleep/date/2021-09-01/2021-12-10.json\n",
      "Requesting data for 2021-12-11T00:00:00+00:00 to 2022-03-21T00:00:00+00:00.\n",
      "Success!\n",
      "https://api.fitbit.com/1.2/user/-/sleep/date/2021-12-11/2022-03-21.json\n",
      "Requesting data for 2022-03-22T00:00:00+00:00 to 2022-06-30T00:00:00+00:00.\n",
      "Success!\n",
      "https://api.fitbit.com/1.2/user/-/sleep/date/2022-03-22/2022-06-30.json\n",
      "Requesting data for 2022-07-01T00:00:00+00:00 to 2022-10-09T00:00:00+00:00.\n",
      "Success!\n",
      "https://api.fitbit.com/1.2/user/-/sleep/date/2022-07-01/2022-10-09.json\n",
      "Requesting data for 2022-10-10T00:00:00+00:00 to 2023-01-18T00:00:00+00:00.\n",
      "Success!\n",
      "https://api.fitbit.com/1.2/user/-/sleep/date/2022-10-10/2023-01-18.json\n",
      "Requesting data for 2023-01-19T00:00:00+00:00 to 2023-04-29T00:00:00+00:00.\n",
      "Success!\n",
      "https://api.fitbit.com/1.2/user/-/sleep/date/2023-01-19/2023-04-29.json\n",
      "Requesting data for 2023-04-30T00:00:00+00:00 to 2023-08-08T00:00:00+00:00.\n",
      "Success!\n",
      "https://api.fitbit.com/1.2/user/-/sleep/date/2023-04-30/2023-08-08.json\n",
      "Requesting data for 2023-08-09T00:00:00+00:00 to 2023-11-01T00:00:00+00:00.\n",
      "Success!\n",
      "https://api.fitbit.com/1.2/user/-/sleep/date/2023-08-09/2023-11-01.json\n"
     ]
    }
   ],
   "source": [
    "all_data = []\n",
    "for date_range in date_ranges:\n",
    "  print(f\"Requesting data for {date_range[0]} to {date_range[1]}.\")\n",
    "  url = f\"{auth2_client.API_ENDPOINT}/1.2/user/-/sleep/date/{date_range[0].year}-{date_range[0].month:02}-{date_range[0].day:02}/{date_range[1].year}-{date_range[1].month:02}-{date_range[1].day:02}.json\"\n",
    "  range_data = auth2_client.make_request(url)\n",
    "  all_data.append(range_data)\n",
    "  print(f\"Success!\")  \n",
    "  print(url)"
   ]
  },
  {
   "cell_type": "code",
   "execution_count": 5,
   "id": "b62b5342",
   "metadata": {},
   "outputs": [
    {
     "data": {
      "text/html": [
       "<div>\n",
       "<style scoped>\n",
       "    .dataframe tbody tr th:only-of-type {\n",
       "        vertical-align: middle;\n",
       "    }\n",
       "\n",
       "    .dataframe tbody tr th {\n",
       "        vertical-align: top;\n",
       "    }\n",
       "\n",
       "    .dataframe thead th {\n",
       "        text-align: right;\n",
       "    }\n",
       "</style>\n",
       "<table border=\"1\" class=\"dataframe\">\n",
       "  <thead>\n",
       "    <tr style=\"text-align: right;\">\n",
       "      <th></th>\n",
       "      <th>date</th>\n",
       "      <th>duration_hours</th>\n",
       "      <th>total_sleep_minutes</th>\n",
       "      <th>total_time_in_bed</th>\n",
       "      <th>start_time</th>\n",
       "      <th>deep_minutes</th>\n",
       "      <th>light_minutes</th>\n",
       "      <th>rem_minutes</th>\n",
       "      <th>wake_minutes</th>\n",
       "    </tr>\n",
       "  </thead>\n",
       "  <tbody>\n",
       "    <tr>\n",
       "      <th>0</th>\n",
       "      <td>2021-11-25</td>\n",
       "      <td>6.916667</td>\n",
       "      <td>346</td>\n",
       "      <td>415</td>\n",
       "      <td>2021-11-24T23:41:30.000</td>\n",
       "      <td>42</td>\n",
       "      <td>243</td>\n",
       "      <td>61</td>\n",
       "      <td>69</td>\n",
       "    </tr>\n",
       "    <tr>\n",
       "      <th>1</th>\n",
       "      <td>2021-11-26</td>\n",
       "      <td>7.183333</td>\n",
       "      <td>373</td>\n",
       "      <td>431</td>\n",
       "      <td>2021-11-25T23:41:00.000</td>\n",
       "      <td>81</td>\n",
       "      <td>200</td>\n",
       "      <td>92</td>\n",
       "      <td>58</td>\n",
       "    </tr>\n",
       "    <tr>\n",
       "      <th>2</th>\n",
       "      <td>2021-11-27</td>\n",
       "      <td>7.433333</td>\n",
       "      <td>373</td>\n",
       "      <td>446</td>\n",
       "      <td>2021-11-26T23:38:00.000</td>\n",
       "      <td>89</td>\n",
       "      <td>222</td>\n",
       "      <td>62</td>\n",
       "      <td>73</td>\n",
       "    </tr>\n",
       "    <tr>\n",
       "      <th>3</th>\n",
       "      <td>2021-11-28</td>\n",
       "      <td>8.766667</td>\n",
       "      <td>433</td>\n",
       "      <td>526</td>\n",
       "      <td>2021-11-27T22:24:30.000</td>\n",
       "      <td>70</td>\n",
       "      <td>323</td>\n",
       "      <td>40</td>\n",
       "      <td>93</td>\n",
       "    </tr>\n",
       "    <tr>\n",
       "      <th>4</th>\n",
       "      <td>2021-11-30</td>\n",
       "      <td>7.516667</td>\n",
       "      <td>399</td>\n",
       "      <td>451</td>\n",
       "      <td>2021-11-29T23:12:30.000</td>\n",
       "      <td>62</td>\n",
       "      <td>257</td>\n",
       "      <td>80</td>\n",
       "      <td>52</td>\n",
       "    </tr>\n",
       "  </tbody>\n",
       "</table>\n",
       "</div>"
      ],
      "text/plain": [
       "         date  duration_hours  total_sleep_minutes  total_time_in_bed  \\\n",
       "0  2021-11-25        6.916667                  346                415   \n",
       "1  2021-11-26        7.183333                  373                431   \n",
       "2  2021-11-27        7.433333                  373                446   \n",
       "3  2021-11-28        8.766667                  433                526   \n",
       "4  2021-11-30        7.516667                  399                451   \n",
       "\n",
       "                start_time  deep_minutes  light_minutes  rem_minutes  \\\n",
       "0  2021-11-24T23:41:30.000            42            243           61   \n",
       "1  2021-11-25T23:41:00.000            81            200           92   \n",
       "2  2021-11-26T23:38:00.000            89            222           62   \n",
       "3  2021-11-27T22:24:30.000            70            323           40   \n",
       "4  2021-11-29T23:12:30.000            62            257           80   \n",
       "\n",
       "   wake_minutes  \n",
       "0            69  \n",
       "1            58  \n",
       "2            73  \n",
       "3            93  \n",
       "4            52  "
      ]
     },
     "execution_count": 5,
     "metadata": {},
     "output_type": "execute_result"
    }
   ],
   "source": [
    "sleep_summaries = []\n",
    "# Iterate through all data and create a list of dictionaries of results:\n",
    "for data in all_data:\n",
    "  for sleep in data[\"sleep\"]:\n",
    "    # For simplicity, ignoring \"naps\" and going for only \"stage\" data\n",
    "    if sleep[\"isMainSleep\"] and sleep[\"type\"] == \"stages\":\n",
    "      sleep_summaries.append(dict(\n",
    "          date=pd.to_datetime(sleep[\"dateOfSleep\"]).date(),\n",
    "          duration_hours=sleep[\"duration\"]/1000/60/60,\n",
    "          total_sleep_minutes=sleep[\"minutesAsleep\"],\n",
    "          total_time_in_bed=sleep[\"timeInBed\"],\n",
    "          start_time=sleep[\"startTime\"],\n",
    "          deep_minutes=sleep[\"levels\"][\"summary\"].get(\"deep\").get(\"minutes\"),\n",
    "          light_minutes=sleep[\"levels\"][\"summary\"].get(\"light\").get(\"minutes\"),\n",
    "          rem_minutes=sleep[\"levels\"][\"summary\"].get(\"rem\").get(\"minutes\"),\n",
    "          wake_minutes=sleep[\"levels\"][\"summary\"].get(\"wake\").get(\"minutes\"),            \n",
    "      ))\n",
    "\n",
    "# Convert new dictionary format to DataFrame\n",
    "sleep_data = pd.DataFrame(sleep_summaries)\n",
    "# Sort by date and view first rows\n",
    "sleep_data.sort_values(\"date\", inplace=True)\n",
    "sleep_data.reset_index(drop=True, inplace=True)\n",
    "sleep_data.head()"
   ]
  }
 ],
 "metadata": {
  "kernelspec": {
   "display_name": "Python 3 (ipykernel)",
   "language": "python",
   "name": "python3"
  },
  "language_info": {
   "codemirror_mode": {
    "name": "ipython",
    "version": 3
   },
   "file_extension": ".py",
   "mimetype": "text/x-python",
   "name": "python",
   "nbconvert_exporter": "python",
   "pygments_lexer": "ipython3",
   "version": "3.9.12"
  }
 },
 "nbformat": 4,
 "nbformat_minor": 5
}
